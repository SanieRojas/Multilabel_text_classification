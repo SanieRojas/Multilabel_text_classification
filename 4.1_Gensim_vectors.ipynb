{
 "cells": [
  {
   "cell_type": "markdown",
   "metadata": {},
   "source": [
    "## Generating corpus with Gensim to classify companies with an unsupervised approach\n",
    "\n",
    "We will use embeddings to calculate similarities among companies and to classify them based on the Standard Industrial Classification (SIC) system. The SIC classification is a standardized numerical code assigned to businesses and industries to facilitate uniformity in economic reporting and analysis. Developed by the U.S. government, the SIC system categorizes companies into specific industry groups based on their primary economic activities. Each SIC code consists of a unique four-digit number, with greater specificity achieved through additional digits. We will kickstart this project by only using the first level of classification. See more information on https://en.wikipedia.org/wiki/Standard_Industrial_Classification#:~:text=The%20Standard%20Industrial%20Classification%20\n",
    "\n",
    " By leveraging embeddings, which represent semantic relationships between words or entities in a vector space, we aim to capture nuanced similarities in the textual content extracted from company websites/wikipedia sites. This classification methodology allows for a more granular understanding of industry affiliations and can enhance the precision of clustering and categorization efforts within the broader context of data science and natural language processing applications."
   ]
  },
  {
   "cell_type": "markdown",
   "metadata": {},
   "source": [
    "![SIC Classification](sic_codes.png)"
   ]
  },
  {
   "cell_type": "code",
   "execution_count": null,
   "metadata": {},
   "outputs": [],
   "source": [
    "import pandas as pd\n",
    "import gensim  ## Topic modeling and document similarity.  \n",
    "import gensim.downloader as gensim_api  ## Gensim model downloader. Download pre-trained models using Gensim API.\n",
    "import seaborn as sns\n",
    "import matplotlib as plt"
   ]
  },
  {
   "cell_type": "code",
   "execution_count": null,
   "metadata": {},
   "outputs": [],
   "source": [
    "nlp = gensim_api.load(\"glove-wiki-gigaword-300\")"
   ]
  },
  {
   "cell_type": "code",
   "execution_count": null,
   "metadata": {},
   "outputs": [],
   "source": [
    "## Function to apply\n",
    "def get_similar_words(lst_words, top, nlp):\n",
    "    lst_out = lst_words\n",
    "    for tupla in nlp.most_similar(lst_words, topn=top):\n",
    "        lst_out.append(tupla[0])\n",
    "    return list(set(lst_out))"
   ]
  },
  {
   "cell_type": "code",
   "execution_count": null,
   "metadata": {},
   "outputs": [],
   "source": [
    "## Create Dictionary {category:[keywords]}\n",
    "dic_clusters = {}\n",
    "dic_clusters[\"Farming\"] = get_similar_words(['agriculture','fishing','forestry','farming'],  top=30, nlp=nlp)\n",
    "dic_clusters[\"Mining\"] = get_similar_words(['gold','coil','silver','mining','extraction'] , top=30, nlp=nlp)\n",
    "dic_clusters[\"Construction\"] = get_similar_words(['build','construction','state'],    top=30, nlp=nlp)\n",
    "dic_clusters[\"Manufacturing\"] = get_similar_words(['manufacture','plant'],  top=30, nlp=nlp)\n",
    "dic_clusters[\"Transportation\"] = get_similar_words(['manufacture','plant'], top=30, nlp=nlp)\n",
    "dic_clusters[\"Retail\"] = get_similar_words(['wholesale','plant'], top=30, nlp=nlp)\n",
    "dic_clusters[\"Banking\"] = get_similar_words(['manufacture','plant'],  top=30, nlp=nlp)\n",
    "dic_clusters[\"Services\"] = get_similar_words(['manufacture','plant'], top=30, nlp=nlp)\n",
    "\n",
    "## print results to explore\n",
    "for k,v in dic_clusters.items():\n",
    "    print(k, \": \", v[0:5], \"...\", len(v))"
   ]
  },
  {
   "cell_type": "code",
   "execution_count": null,
   "metadata": {},
   "outputs": [],
   "source": [
    "tot_words = [word for v in dic_clusters.values() for word in v]\n",
    "X = nlp[tot_words]\n",
    "tot_words"
   ]
  },
  {
   "cell_type": "code",
   "execution_count": null,
   "metadata": {},
   "outputs": [],
   "source": [
    "## pca\n",
    "pca = manifold.TSNE(perplexity=40, n_components=2, init='pca')\n",
    "X = pca.fit_transform(X) #obtains a numpy array of PCA reducted vectors for each of the similar keywords\n",
    "my_dataframe = pd.DataFrame(X, columns=['x', 'y'])\n",
    "my_dataframe"
   ]
  },
  {
   "cell_type": "code",
   "execution_count": null,
   "metadata": {},
   "outputs": [],
   "source": [
    "## create a dataframe to portray our PCA vectors visually \n",
    "dtf = pd.DataFrame()\n",
    "for k,v in dic_clusters.items():\n",
    "    size = len(dtf) + len(v)\n",
    "    dtf_group = pd.DataFrame(X[len(dtf):size], columns=[\"x\",\"y\"], \n",
    "                             index=v)\n",
    "    dtf_group[\"cluster\"] = k\n",
    "    dtf = pd.concat([dtf, dtf_group])\n",
    "        \n",
    "## plot\n",
    "fig, ax = plt.subplots()\n",
    "sns.scatterplot(data=dtf, x=\"x\", y=\"y\", hue=\"cluster\", ax=ax)\n",
    "ax.legend().texts[0].set_text(None)\n",
    "ax.set(xlabel=None, ylabel=None, xticks=[], xticklabels=[], \n",
    "       yticks=[], yticklabels=[])\n"
   ]
  }
 ],
 "metadata": {
  "language_info": {
   "name": "python"
  }
 },
 "nbformat": 4,
 "nbformat_minor": 2
}
