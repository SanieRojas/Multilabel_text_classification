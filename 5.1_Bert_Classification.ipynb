{
 "cells": [
  {
   "cell_type": "code",
   "execution_count": 2,
   "metadata": {},
   "outputs": [],
   "source": [
    "import pandas as  pd"
   ]
  },
  {
   "cell_type": "code",
   "execution_count": 6,
   "metadata": {},
   "outputs": [],
   "source": [
    "# Load dataframe generated with 3.1_LDA_unsupervised\n",
    "df1 = pd.read_csv('3.2_binary_encoded_results.csv') "
   ]
  },
  {
   "cell_type": "code",
   "execution_count": 5,
   "metadata": {},
   "outputs": [
    {
     "name": "stderr",
     "output_type": "stream",
     "text": [
      "c:\\Users\\sanie.s.rojas.lobo\\Desktop\\ITBA Bucket\\Tesis\\second\\secondtry\\Lib\\site-packages\\tqdm\\auto.py:21: TqdmWarning: IProgress not found. Please update jupyter and ipywidgets. See https://ipywidgets.readthedocs.io/en/stable/user_install.html\n",
      "  from .autonotebook import tqdm as notebook_tqdm\n"
     ]
    },
    {
     "name": "stdout",
     "output_type": "stream",
     "text": [
      "WARNING:tensorflow:From c:\\Users\\sanie.s.rojas.lobo\\Desktop\\ITBA Bucket\\Tesis\\second\\secondtry\\Lib\\site-packages\\keras\\src\\losses.py:2976: The name tf.losses.sparse_softmax_cross_entropy is deprecated. Please use tf.compat.v1.losses.sparse_softmax_cross_entropy instead.\n",
      "\n"
     ]
    },
    {
     "name": "stderr",
     "output_type": "stream",
     "text": [
      "config.json: 100%|██████████| 570/570 [00:00<?, ?B/s] \n",
      "c:\\Users\\sanie.s.rojas.lobo\\Desktop\\ITBA Bucket\\Tesis\\second\\secondtry\\Lib\\site-packages\\huggingface_hub\\file_download.py:147: UserWarning: `huggingface_hub` cache-system uses symlinks by default to efficiently store duplicated files but your machine does not support them in C:\\Users\\sanie.s.rojas.lobo\\.cache\\huggingface\\hub. Caching files will still work but in a degraded version that might require more space on your disk. This warning can be disabled by setting the `HF_HUB_DISABLE_SYMLINKS_WARNING` environment variable. For more details, see https://huggingface.co/docs/huggingface_hub/how-to-cache#limitations.\n",
      "To support symlinks on Windows, you either need to activate Developer Mode or to run Python as an administrator. In order to see activate developer mode, see this article: https://docs.microsoft.com/en-us/windows/apps/get-started/enable-your-device-for-development\n",
      "  warnings.warn(message)\n",
      "model.safetensors: 100%|██████████| 440M/440M [03:44<00:00, 1.96MB/s] \n"
     ]
    },
    {
     "name": "stdout",
     "output_type": "stream",
     "text": [
      "WARNING:tensorflow:From c:\\Users\\sanie.s.rojas.lobo\\Desktop\\ITBA Bucket\\Tesis\\second\\secondtry\\Lib\\site-packages\\keras\\src\\backend.py:873: The name tf.get_default_graph is deprecated. Please use tf.compat.v1.get_default_graph instead.\n",
      "\n"
     ]
    },
    {
     "name": "stderr",
     "output_type": "stream",
     "text": [
      "All PyTorch model weights were used when initializing TFBertForMaskedLM.\n",
      "\n",
      "All the weights of TFBertForMaskedLM were initialized from the PyTorch model.\n",
      "If your task is similar to the task the model of the checkpoint was trained on, you can already use TFBertForMaskedLM for predictions without further training.\n",
      "tokenizer_config.json: 100%|██████████| 28.0/28.0 [00:00<?, ?B/s]\n",
      "vocab.txt: 100%|██████████| 232k/232k [00:00<00:00, 1.41MB/s]\n",
      "tokenizer.json: 100%|██████████| 466k/466k [00:00<00:00, 2.40MB/s]\n"
     ]
    },
    {
     "name": "stdout",
     "output_type": "stream",
     "text": [
      "Token animals:\t0.066%\n",
      "Token love:\t0.058%\n",
      "Token elephants:\t0.058%\n",
      "Token marriage:\t0.042%\n",
      "Token family:\t0.028%\n"
     ]
    }
   ],
   "source": [
    "from transformers import pipeline\n",
    "\n",
    "pipe = pipeline(\"fill-mask\", model=\"bert-base-uncased\")\n",
    "\n",
    "#Example usage \n",
    "movie_desc = \"Raju becomes very attached to his four elephants \\\n",
    "after they save his life. \\\n",
    "His wife, however, fears for her child and tells him that \\\n",
    "he must choose between the animals and his family. \"\n",
    "\n",
    "prompt = \"The movie is about [MASK].\"\n",
    "\n",
    "output = pipe(movie_desc + prompt)\n",
    "for element in output:\n",
    "    print(f\"Token {element['token_str']}:\\t{element['score']:.3f}%\")\n"
   ]
  },
  {
   "cell_type": "code",
   "execution_count": 9,
   "metadata": {},
   "outputs": [
    {
     "data": {
      "text/plain": [
       "'3D Systems, headquartered in Rock Hill, South Carolina, is a company that engineers, manufactures, and sells 3D printers, 3D printing materials, 3D scanners, and offers a 3D printing service. The company creates product concept models, precision and functional prototypes, master patterns for tooling, as well as production parts for direct digital manufacturing. It uses proprietary processes to fabricate physical objects using input from computer-aided design and manufacturing software, or 3D sca'"
      ]
     },
     "execution_count": 9,
     "metadata": {},
     "output_type": "execute_result"
    }
   ],
   "source": [
    "df1[\"Company description\"][0]"
   ]
  },
  {
   "cell_type": "code",
   "execution_count": 14,
   "metadata": {},
   "outputs": [
    {
     "name": "stdout",
     "output_type": "stream",
     "text": [
      "Token manufacturing:\t0.550%\n",
      "Token engineering:\t0.128%\n",
      "Token technology:\t0.029%\n",
      "Token construction:\t0.021%\n",
      "Token industry:\t0.020%\n"
     ]
    }
   ],
   "source": [
    "company_desc = df1[\"Company description\"][0]\n",
    "\n",
    "prompt = \"The company described below is dedicated to the following industrial sectors: [MASK].\"\n",
    "\n",
    "output = pipe(company_desc + prompt)\n",
    "for element in output:\n",
    "    print(f\"Token {element['token_str']}:\\t{element['score']:.3f}%\")"
   ]
  },
  {
   "cell_type": "code",
   "execution_count": 23,
   "metadata": {},
   "outputs": [
    {
     "name": "stdout",
     "output_type": "stream",
     "text": [
      "Token manufacturing:\t0.117%\n",
      "Token coal:\t0.099%\n",
      "Token mining:\t0.096%\n",
      "Token exploration:\t0.057%\n",
      "Token industry:\t0.052%\n"
     ]
    }
   ],
   "source": [
    "company_desc = df1[\"Company description\"][55]\n",
    "\n",
    "prompt = \"The company described below is dedicated to the following industrial sectors: [MASK].\"\n",
    "\n",
    "output = pipe(company_desc + prompt)\n",
    "for element in output:\n",
    "    print(f\"Token {element['token_str']}:\\t{element['score']:.3f}%\")"
   ]
  }
 ],
 "metadata": {
  "kernelspec": {
   "display_name": "secondtry",
   "language": "python",
   "name": "python3"
  },
  "language_info": {
   "codemirror_mode": {
    "name": "ipython",
    "version": 3
   },
   "file_extension": ".py",
   "mimetype": "text/x-python",
   "name": "python",
   "nbconvert_exporter": "python",
   "pygments_lexer": "ipython3",
   "version": "3.11.2"
  }
 },
 "nbformat": 4,
 "nbformat_minor": 2
}
